{
 "cells": [
  {
   "cell_type": "code",
   "execution_count": 1,
   "metadata": {},
   "outputs": [],
   "source": [
    "import pandas as pd\n",
    "from sklearn.model_selection import train_test_split\n",
    "from sklearn.metrics import accuracy_score\n",
    "from sklearn.metrics import precision_recall_fscore_support\n",
    "from bert_sklearn import BertClassifier"
   ]
  },
  {
   "cell_type": "code",
   "execution_count": 2,
   "metadata": {},
   "outputs": [],
   "source": [
    "labeled_data = pd.read_pickle('../../data/labeled_data.pkl')\n",
    "drop_trash = labeled_data['Aggr.Label'] < 90\n",
    "labeled_data = labeled_data[drop_trash]"
   ]
  },
  {
   "cell_type": "code",
   "execution_count": 3,
   "metadata": {},
   "outputs": [],
   "source": [
    "features = ['Lemma_stripped', 'Raw_len', 'Raw_word_count']\n",
    "target = 'Aggr.Label'\n",
    "\n",
    "train_X, validation_X, train_y, validation_y = train_test_split(\n",
    "    labeled_data[features],\n",
    "    labeled_data[target],\n",
    "    test_size=0.33,\n",
    "    random_state=1,\n",
    "    stratify=labeled_data[target])"
   ]
  },
  {
   "cell_type": "code",
   "execution_count": 6,
   "metadata": {},
   "outputs": [
    {
     "name": "stdout",
     "output_type": "stream",
     "text": [
      "Building sklearn text classifier...\n"
     ]
    }
   ],
   "source": [
    "model = BertClassifier(bert_model='bert-base-multilingual-uncased', use_cuda=False)"
   ]
  },
  {
   "cell_type": "code",
   "execution_count": null,
   "metadata": {
    "scrolled": true
   },
   "outputs": [
    {
     "name": "stdout",
     "output_type": "stream",
     "text": [
      "Loading bert-base-multilingual-uncased model...\n",
      "Defaulting to linear classifier/regressor\n",
      "Loading Pytorch checkpoint\n",
      "train data size: 17702, validation data size: 1966\n"
     ]
    },
    {
     "name": "stderr",
     "output_type": "stream",
     "text": [
      "Training  :  90%|█████████████████████████████████████████████████▍     | 498/554 [5:40:29<37:54, 40.62s/it, loss=2.32]"
     ]
    }
   ],
   "source": [
    "model.fit(train_X, train_y)\n",
    "preds = model.predict(validation_X)\n",
    "\n",
    "acc = accuracy_score(validation_y, preds)\n",
    "prec, reca, fsco, _ = precision_recall_fscore_support(validation_y, preds, average='macro')"
   ]
  },
  {
   "cell_type": "code",
   "execution_count": null,
   "metadata": {},
   "outputs": [],
   "source": [
    "model.save('../../data/bert-base-multilingual-uncased_01.bin')"
   ]
  }
 ],
 "metadata": {
  "kernelspec": {
   "display_name": "Python 3",
   "language": "python",
   "name": "python3"
  },
  "language_info": {
   "codemirror_mode": {
    "name": "ipython",
    "version": 3
   },
   "file_extension": ".py",
   "mimetype": "text/x-python",
   "name": "python",
   "nbconvert_exporter": "python",
   "pygments_lexer": "ipython3",
   "version": "3.6.9"
  }
 },
 "nbformat": 4,
 "nbformat_minor": 2
}
