{
 "cells": [
  {
   "cell_type": "code",
   "execution_count": 2,
   "metadata": {},
   "outputs": [],
   "source": [
    "import pandas as pd"
   ]
  },
  {
   "cell_type": "code",
   "execution_count": 3,
   "metadata": {},
   "outputs": [],
   "source": [
    "labeled_data = pd.read_pickle('../../data/labeled_data_pos_ont.pkl')"
   ]
  },
  {
   "cell_type": "code",
   "execution_count": 4,
   "metadata": {},
   "outputs": [],
   "source": [
    "nn_dict = set(\n",
    "    ['ikje', 'vere', 'vore', 'kjem', 'ein', 'blei', 'vart', 'tydeleg', 'særleg', 'endeleg', 'berre', 'noko', 'nokon'\n",
    "    'dei', 'seie', 'eit', 'tru', 'bu', 'mykje', 'desse', 'gjer', 'berre', 'fekk', 'mogelegheit', 'merksemd',\n",
    "    'forståing', 'samanheng', 'tilrå', 'aning', 'busetnad', 'folk', 'storhending', 'veg', 'stad', 'framleis',\n",
    "    'enno', 'finst', 'gjer', 'seier']\n",
    ")"
   ]
  },
  {
   "cell_type": "code",
   "execution_count": 5,
   "metadata": {},
   "outputs": [],
   "source": [
    "nb_dict = set(\n",
    "    ['ikke', 'være', 'vært', 'kommer', 'man', 'ble', 'tydelig', 'særlig', 'endelig', 'bare', 'noe', 'noen'\n",
    "    'de', 'si', 'en', 'tro', 'bo', 'mye', 'disse', 'gjør', 'bare', 'fikk', 'mulighet', 'oppmerksomhet',\n",
    "    'forståelse', 'forbindelse', 'anbefale', 'anelse', 'bebyggelse', 'befolkning', 'begivenhet', 'vei', 'sted', 'fortsatt',\n",
    "    'finnes', 'gjør', 'sier']\n",
    ")"
   ]
  },
  {
   "cell_type": "code",
   "execution_count": 6,
   "metadata": {},
   "outputs": [],
   "source": [
    "nn_lens = []\n",
    "nb_lens = []\n",
    "for article in labeled_data['Raw'].tolist():\n",
    "    splitted = set(article.split())\n",
    "    nn_lens.append(len(splitted & nn_dict))\n",
    "    nb_lens.append(len(splitted & nb_dict))"
   ]
  },
  {
   "cell_type": "code",
   "execution_count": 7,
   "metadata": {},
   "outputs": [],
   "source": [
    "nn_bool = []\n",
    "for index in range(len(nn_lens)):\n",
    "    if nn_lens[index] > nb_lens[index]:\n",
    "        nn_bool.append(True)\n",
    "    else:\n",
    "        nn_bool.append(False)"
   ]
  },
  {
   "cell_type": "code",
   "execution_count": 9,
   "metadata": {},
   "outputs": [],
   "source": [
    "labeled_data['NN_bool'] = nn_bool"
   ]
  },
  {
   "cell_type": "code",
   "execution_count": 54,
   "metadata": {},
   "outputs": [],
   "source": [
    "labeled_data.to_pickle('../../data/labeled_data_pos_ont_nn.pkl')"
   ]
  },
  {
   "cell_type": "code",
   "execution_count": 14,
   "metadata": {},
   "outputs": [],
   "source": [
    "drop_trash = labeled_data['Aggr.Label'] < 90\n",
    "labeled_data = labeled_data[drop_trash]"
   ]
  },
  {
   "cell_type": "code",
   "execution_count": 17,
   "metadata": {},
   "outputs": [
    {
     "data": {
      "text/plain": [
       "<matplotlib.axes._subplots.AxesSubplot at 0x1d9fd9d26d8>"
      ]
     },
     "execution_count": 17,
     "metadata": {},
     "output_type": "execute_result"
    },
    {
     "data": {
      "image/png": "[encoded data removed]",
      "text/plain": [
       "<Figure size 432x288 with 1 Axes>"
      ]
     },
     "metadata": {
      "needs_background": "light"
     },
     "output_type": "display_data"
    }
   ],
   "source": [
    "labeled_data.groupby('Aggr.Label')['NN_bool'].sum().sort_values(ascending=False).plot.bar()"
   ]
  },
  {
   "cell_type": "code",
   "execution_count": 57,
   "metadata": {},
   "outputs": [
    {
     "data": {
      "text/plain": [
       "251504    Aftenposten\n",
       "Name: Source, dtype: category\n",
       "Categories (2, object): [Aftenposten, VG]"
      ]
     },
     "execution_count": 57,
     "metadata": {},
     "output_type": "execute_result"
    }
   ],
   "source": [
    "labeled_data[labeled_data['NN_bool'] == True].sample(n=1)['Source']"
   ]
  },
  {
   "cell_type": "code",
   "execution_count": 58,
   "metadata": {},
   "outputs": [
    {
     "data": {
      "text/plain": [
       "(37323, 79)"
      ]
     },
     "execution_count": 58,
     "metadata": {},
     "output_type": "execute_result"
    }
   ],
   "source": [
    "labeled_data.shape"
   ]
  }
 ],
 "metadata": {
  "kernelspec": {
   "display_name": "Python 3",
   "language": "python",
   "name": "python3"
  },
  "language_info": {
   "codemirror_mode": {
    "name": "ipython",
    "version": 3
   },
   "file_extension": ".py",
   "mimetype": "text/x-python",
   "name": "python",
   "nbconvert_exporter": "python",
   "pygments_lexer": "ipython3",
   "version": "3.6.9"
  }
 },
 "nbformat": 4,
 "nbformat_minor": 4
}
